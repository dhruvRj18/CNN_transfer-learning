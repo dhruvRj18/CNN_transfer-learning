{
 "cells": [
  {
   "cell_type": "code",
   "execution_count": 11,
   "id": "a38ad71a",
   "metadata": {},
   "outputs": [],
   "source": [
    "import os\n",
    "from skimage import io, transform\n",
    "from sklearn.model_selection import train_test_split\n",
    "from sklearn.preprocessing import LabelEncoder\n",
    "import numpy as np\n",
    "\n",
    "celeba_data_path = '../celebA'\n",
    "\n",
    "img_folder = os.path.join(celeba_data_path, 'img_align_celeba')\n",
    "\n",
    "\n",
    "\n"
   ]
  },
  {
   "cell_type": "code",
   "execution_count": 16,
   "id": "5e19202a",
   "metadata": {},
   "outputs": [],
   "source": [
    "import tensorflow as tf\n",
    "from tensorflow.keras import layers, models\n",
    "from tensorflow.keras.optimizers import Adam\n",
    "from tensorflow.keras.preprocessing.image import ImageDataGenerator\n",
    "from sklearn.model_selection import train_test_split\n",
    "from sklearn.preprocessing import LabelEncoder\n",
    "from sklearn.metrics import accuracy_score\n",
    "from sklearn.datasets import fetch_lfw_people\n",
    "from sklearn.decomposition import PCA\n",
    "import numpy as np\n"
   ]
  },
  {
   "cell_type": "code",
   "execution_count": 30,
   "id": "c5f56dc1",
   "metadata": {},
   "outputs": [],
   "source": [
    "IMG_SIZE = (160, 160)\n"
   ]
  },
  {
   "cell_type": "code",
   "execution_count": 31,
   "id": "0ce58c89",
   "metadata": {},
   "outputs": [],
   "source": [
    "# Load CelebA images and labels using metadata from CSV files\n",
    "def load_celeba_data(data_path, limit_image_name=None):\n",
    "    # Load attribute labels from the 'list_attr_celeba.csv' file\n",
    "    attr_file_path = os.path.join(data_path, 'list_attr_celeba.csv')\n",
    "    df_attr = pd.read_csv(attr_file_path)\n",
    "    \n",
    "    # Filter relevant columns (image_id and attribute labels)\n",
    "    df_attr = df_attr[['image_id', 'Smiling']]  # Change 'Smiling' to the attribute you're interested in\n",
    "    \n",
    "    # Load image filenames\n",
    "    img_filenames = df_attr['image_id'].values\n",
    "\n",
    "    images = []\n",
    "    labels = []\n",
    "\n",
    "    for img_filename in img_filenames:\n",
    "        img_path = os.path.join(img_folder, img_filename)\n",
    "        \n",
    "        # Check if the current image filename exceeds the limit\n",
    "        if limit_image_name is not None and img_filename > limit_image_name:\n",
    "            break\n",
    "\n",
    "        label = df_attr[df_attr['image_id'] == img_filename]['Smiling'].values[0]\n",
    "\n",
    "        # Resize images to the same size used in your LFW dataset\n",
    "        img = transform.resize(io.imread(img_path), IMG_SIZE)\n",
    "\n",
    "        images.append(img)\n",
    "        labels.append(label)\n",
    "\n",
    "    return np.array(images), np.array(labels)"
   ]
  },
  {
   "cell_type": "code",
   "execution_count": 56,
   "id": "289b91bb",
   "metadata": {},
   "outputs": [
    {
     "name": "stdout",
     "output_type": "stream",
     "text": [
      "X_celeb shape: (150, 160, 160, 3)\n",
      "y_celeb shape: (150,)\n",
      "Number of unique labels in CelebA: 2\n"
     ]
    }
   ],
   "source": [
    "import pandas as pd\n",
    "\n",
    "# Load CelebA data\n",
    "X_celeb, y_celeb = load_celeba_data(celeba_data_path,limit_image_name='000150.jpg')\n",
    "\n",
    "# Normalize pixel values to be between 0 and 1\n",
    "X_celeb = X_celeb / 255.0\n",
    "\n",
    "# Perform label encoding\n",
    "label_encoder_celeb = LabelEncoder()\n",
    "y_celeb_encoded = label_encoder_celeb.fit_transform(y_celeb)\n",
    "\n",
    "# Split the data into training and testing sets\n",
    "X_celeb_train, X_celeb_test, y_celeb_train, y_celeb_test = train_test_split(\n",
    "    X_celeb, y_celeb_encoded, test_size=0.2, random_state=42\n",
    ")\n",
    "\n",
    "# Print shapes and unique labels for verification\n",
    "print(\"X_celeb shape:\", X_celeb.shape)\n",
    "print(\"y_celeb shape:\", y_celeb_encoded.shape)\n",
    "print(\"Number of unique labels in CelebA:\", len(np.unique(y_celeb_encoded)))"
   ]
  },
  {
   "cell_type": "code",
   "execution_count": 57,
   "id": "0ea172d7",
   "metadata": {},
   "outputs": [
    {
     "name": "stdout",
     "output_type": "stream",
     "text": [
      "X_celeb_train shape: (120, 160, 160, 3)\n",
      "X_celeb_test shape: (30, 160, 160, 3)\n"
     ]
    }
   ],
   "source": [
    "print(\"X_celeb_train shape:\", X_celeb_train.shape)\n",
    "print(\"X_celeb_test shape:\", X_celeb_test.shape)\n"
   ]
  },
  {
   "cell_type": "code",
   "execution_count": 58,
   "id": "7a3b0255",
   "metadata": {},
   "outputs": [],
   "source": [
    "from tensorflow.keras import models\n",
    "from tensorflow.keras import layers\n",
    "\n",
    "num_classes_celeb = len(np.unique(y_celeb_encoded))\n",
    "\n",
    "model_for_transfer_learning = models.load_model('../aug_training_model.h5')\n",
    "model_for_transfer_learning.pop()  # Remove the last layer\n",
    "model_for_transfer_learning.add(layers.Dense(num_classes_celeb, activation='softmax'))"
   ]
  },
  {
   "cell_type": "code",
   "execution_count": 37,
   "id": "196854e0",
   "metadata": {},
   "outputs": [],
   "source": [
    "model_for_transfer_learning.compile(\n",
    "    optimizer=Adam(learning_rate=0.0001),\n",
    "    loss='sparse_categorical_crossentropy',\n",
    "    metrics=['accuracy']\n",
    ")\n"
   ]
  },
  {
   "cell_type": "code",
   "execution_count": 38,
   "id": "f2fed3e2",
   "metadata": {},
   "outputs": [],
   "source": [
    "# Data augmentation\n",
    "datagen = ImageDataGenerator(\n",
    "    rotation_range=20,\n",
    "    width_shift_range=0.2,\n",
    "    height_shift_range=0.2,\n",
    "    shear_range=0.2,\n",
    "    zoom_range=0.2,\n",
    "    horizontal_flip=True,\n",
    "    fill_mode='nearest'\n",
    ")"
   ]
  },
  {
   "cell_type": "code",
   "execution_count": 39,
   "id": "0670d163",
   "metadata": {},
   "outputs": [
    {
     "name": "stdout",
     "output_type": "stream",
     "text": [
      "Epoch 1/10\n"
     ]
    },
    {
     "ename": "InvalidArgumentError",
     "evalue": "Graph execution error:\n\nDetected at node sequential_9/conv2d_27/Relu defined at (most recent call last):\n  File \"<frozen runpy>\", line 198, in _run_module_as_main\n\n  File \"<frozen runpy>\", line 88, in _run_code\n\n  File \"E:\\Conestoga\\Foundation of ML\\CNN_transfer-learning\\venv\\Lib\\site-packages\\ipykernel_launcher.py\", line 17, in <module>\n\n  File \"E:\\Conestoga\\Foundation of ML\\CNN_transfer-learning\\venv\\Lib\\site-packages\\traitlets\\config\\application.py\", line 1053, in launch_instance\n\n  File \"E:\\Conestoga\\Foundation of ML\\CNN_transfer-learning\\venv\\Lib\\site-packages\\ipykernel\\kernelapp.py\", line 737, in start\n\n  File \"E:\\Conestoga\\Foundation of ML\\CNN_transfer-learning\\venv\\Lib\\site-packages\\tornado\\platform\\asyncio.py\", line 195, in start\n\n  File \"C:\\Users\\Rj\\AppData\\Local\\Programs\\Python\\Python311\\Lib\\asyncio\\base_events.py\", line 607, in run_forever\n\n  File \"C:\\Users\\Rj\\AppData\\Local\\Programs\\Python\\Python311\\Lib\\asyncio\\base_events.py\", line 1922, in _run_once\n\n  File \"C:\\Users\\Rj\\AppData\\Local\\Programs\\Python\\Python311\\Lib\\asyncio\\events.py\", line 80, in _run\n\n  File \"E:\\Conestoga\\Foundation of ML\\CNN_transfer-learning\\venv\\Lib\\site-packages\\ipykernel\\kernelbase.py\", line 524, in dispatch_queue\n\n  File \"E:\\Conestoga\\Foundation of ML\\CNN_transfer-learning\\venv\\Lib\\site-packages\\ipykernel\\kernelbase.py\", line 513, in process_one\n\n  File \"E:\\Conestoga\\Foundation of ML\\CNN_transfer-learning\\venv\\Lib\\site-packages\\ipykernel\\kernelbase.py\", line 418, in dispatch_shell\n\n  File \"E:\\Conestoga\\Foundation of ML\\CNN_transfer-learning\\venv\\Lib\\site-packages\\ipykernel\\kernelbase.py\", line 758, in execute_request\n\n  File \"E:\\Conestoga\\Foundation of ML\\CNN_transfer-learning\\venv\\Lib\\site-packages\\ipykernel\\ipkernel.py\", line 426, in do_execute\n\n  File \"E:\\Conestoga\\Foundation of ML\\CNN_transfer-learning\\venv\\Lib\\site-packages\\ipykernel\\zmqshell.py\", line 549, in run_cell\n\n  File \"E:\\Conestoga\\Foundation of ML\\CNN_transfer-learning\\venv\\Lib\\site-packages\\IPython\\core\\interactiveshell.py\", line 3046, in run_cell\n\n  File \"E:\\Conestoga\\Foundation of ML\\CNN_transfer-learning\\venv\\Lib\\site-packages\\IPython\\core\\interactiveshell.py\", line 3101, in _run_cell\n\n  File \"E:\\Conestoga\\Foundation of ML\\CNN_transfer-learning\\venv\\Lib\\site-packages\\IPython\\core\\async_helpers.py\", line 129, in _pseudo_sync_runner\n\n  File \"E:\\Conestoga\\Foundation of ML\\CNN_transfer-learning\\venv\\Lib\\site-packages\\IPython\\core\\interactiveshell.py\", line 3306, in run_cell_async\n\n  File \"E:\\Conestoga\\Foundation of ML\\CNN_transfer-learning\\venv\\Lib\\site-packages\\IPython\\core\\interactiveshell.py\", line 3488, in run_ast_nodes\n\n  File \"E:\\Conestoga\\Foundation of ML\\CNN_transfer-learning\\venv\\Lib\\site-packages\\IPython\\core\\interactiveshell.py\", line 3548, in run_code\n\n  File \"C:\\Users\\Rj\\AppData\\Local\\Temp\\ipykernel_20020\\2219628698.py\", line 1, in <module>\n\n  File \"E:\\Conestoga\\Foundation of ML\\CNN_transfer-learning\\venv\\Lib\\site-packages\\keras\\src\\utils\\traceback_utils.py\", line 65, in error_handler\n\n  File \"E:\\Conestoga\\Foundation of ML\\CNN_transfer-learning\\venv\\Lib\\site-packages\\keras\\src\\engine\\training.py\", line 1807, in fit\n\n  File \"E:\\Conestoga\\Foundation of ML\\CNN_transfer-learning\\venv\\Lib\\site-packages\\keras\\src\\engine\\training.py\", line 1401, in train_function\n\n  File \"E:\\Conestoga\\Foundation of ML\\CNN_transfer-learning\\venv\\Lib\\site-packages\\keras\\src\\engine\\training.py\", line 1384, in step_function\n\n  File \"E:\\Conestoga\\Foundation of ML\\CNN_transfer-learning\\venv\\Lib\\site-packages\\keras\\src\\engine\\training.py\", line 1373, in run_step\n\n  File \"E:\\Conestoga\\Foundation of ML\\CNN_transfer-learning\\venv\\Lib\\site-packages\\keras\\src\\engine\\training.py\", line 1150, in train_step\n\n  File \"E:\\Conestoga\\Foundation of ML\\CNN_transfer-learning\\venv\\Lib\\site-packages\\keras\\src\\utils\\traceback_utils.py\", line 65, in error_handler\n\n  File \"E:\\Conestoga\\Foundation of ML\\CNN_transfer-learning\\venv\\Lib\\site-packages\\keras\\src\\engine\\training.py\", line 590, in __call__\n\n  File \"E:\\Conestoga\\Foundation of ML\\CNN_transfer-learning\\venv\\Lib\\site-packages\\keras\\src\\utils\\traceback_utils.py\", line 65, in error_handler\n\n  File \"E:\\Conestoga\\Foundation of ML\\CNN_transfer-learning\\venv\\Lib\\site-packages\\keras\\src\\engine\\base_layer.py\", line 1149, in __call__\n\n  File \"E:\\Conestoga\\Foundation of ML\\CNN_transfer-learning\\venv\\Lib\\site-packages\\keras\\src\\utils\\traceback_utils.py\", line 96, in error_handler\n\n  File \"E:\\Conestoga\\Foundation of ML\\CNN_transfer-learning\\venv\\Lib\\site-packages\\keras\\src\\engine\\sequential.py\", line 398, in call\n\n  File \"E:\\Conestoga\\Foundation of ML\\CNN_transfer-learning\\venv\\Lib\\site-packages\\keras\\src\\engine\\functional.py\", line 515, in call\n\n  File \"E:\\Conestoga\\Foundation of ML\\CNN_transfer-learning\\venv\\Lib\\site-packages\\keras\\src\\engine\\functional.py\", line 672, in _run_internal_graph\n\n  File \"E:\\Conestoga\\Foundation of ML\\CNN_transfer-learning\\venv\\Lib\\site-packages\\keras\\src\\utils\\traceback_utils.py\", line 65, in error_handler\n\n  File \"E:\\Conestoga\\Foundation of ML\\CNN_transfer-learning\\venv\\Lib\\site-packages\\keras\\src\\engine\\base_layer.py\", line 1149, in __call__\n\n  File \"E:\\Conestoga\\Foundation of ML\\CNN_transfer-learning\\venv\\Lib\\site-packages\\keras\\src\\utils\\traceback_utils.py\", line 96, in error_handler\n\n  File \"E:\\Conestoga\\Foundation of ML\\CNN_transfer-learning\\venv\\Lib\\site-packages\\keras\\src\\layers\\convolutional\\base_conv.py\", line 321, in call\n\n  File \"E:\\Conestoga\\Foundation of ML\\CNN_transfer-learning\\venv\\Lib\\site-packages\\keras\\src\\activations.py\", line 306, in relu\n\n  File \"E:\\Conestoga\\Foundation of ML\\CNN_transfer-learning\\venv\\Lib\\site-packages\\keras\\src\\backend.py\", line 5395, in relu\n\noutput depth must be evenly divisible by number of groups: 64 vs 3\n\t [[{{node sequential_9/conv2d_27/Relu}}]] [Op:__inference_train_function_4663]",
     "output_type": "error",
     "traceback": [
      "\u001b[1;31m---------------------------------------------------------------------------\u001b[0m",
      "\u001b[1;31mInvalidArgumentError\u001b[0m                      Traceback (most recent call last)",
      "Cell \u001b[1;32mIn[39], line 1\u001b[0m\n\u001b[1;32m----> 1\u001b[0m history_transfer_learning \u001b[38;5;241m=\u001b[39m model_for_transfer_learning\u001b[38;5;241m.\u001b[39mfit(\n\u001b[0;32m      2\u001b[0m     datagen\u001b[38;5;241m.\u001b[39mflow(X_celeb_train, y_celeb_train, batch_size\u001b[38;5;241m=\u001b[39m\u001b[38;5;241m32\u001b[39m),\n\u001b[0;32m      3\u001b[0m     validation_data\u001b[38;5;241m=\u001b[39m(X_celeb_test, y_celeb_test),\n\u001b[0;32m      4\u001b[0m     epochs\u001b[38;5;241m=\u001b[39m\u001b[38;5;241m10\u001b[39m\n\u001b[0;32m      5\u001b[0m )\n",
      "File \u001b[1;32mE:\\Conestoga\\Foundation of ML\\CNN_transfer-learning\\venv\\Lib\\site-packages\\keras\\src\\utils\\traceback_utils.py:70\u001b[0m, in \u001b[0;36mfilter_traceback.<locals>.error_handler\u001b[1;34m(*args, **kwargs)\u001b[0m\n\u001b[0;32m     67\u001b[0m     filtered_tb \u001b[38;5;241m=\u001b[39m _process_traceback_frames(e\u001b[38;5;241m.\u001b[39m__traceback__)\n\u001b[0;32m     68\u001b[0m     \u001b[38;5;66;03m# To get the full stack trace, call:\u001b[39;00m\n\u001b[0;32m     69\u001b[0m     \u001b[38;5;66;03m# `tf.debugging.disable_traceback_filtering()`\u001b[39;00m\n\u001b[1;32m---> 70\u001b[0m     \u001b[38;5;28;01mraise\u001b[39;00m e\u001b[38;5;241m.\u001b[39mwith_traceback(filtered_tb) \u001b[38;5;28;01mfrom\u001b[39;00m \u001b[38;5;28;01mNone\u001b[39;00m\n\u001b[0;32m     71\u001b[0m \u001b[38;5;28;01mfinally\u001b[39;00m:\n\u001b[0;32m     72\u001b[0m     \u001b[38;5;28;01mdel\u001b[39;00m filtered_tb\n",
      "File \u001b[1;32mE:\\Conestoga\\Foundation of ML\\CNN_transfer-learning\\venv\\Lib\\site-packages\\tensorflow\\python\\eager\\execute.py:53\u001b[0m, in \u001b[0;36mquick_execute\u001b[1;34m(op_name, num_outputs, inputs, attrs, ctx, name)\u001b[0m\n\u001b[0;32m     51\u001b[0m \u001b[38;5;28;01mtry\u001b[39;00m:\n\u001b[0;32m     52\u001b[0m   ctx\u001b[38;5;241m.\u001b[39mensure_initialized()\n\u001b[1;32m---> 53\u001b[0m   tensors \u001b[38;5;241m=\u001b[39m pywrap_tfe\u001b[38;5;241m.\u001b[39mTFE_Py_Execute(ctx\u001b[38;5;241m.\u001b[39m_handle, device_name, op_name,\n\u001b[0;32m     54\u001b[0m                                       inputs, attrs, num_outputs)\n\u001b[0;32m     55\u001b[0m \u001b[38;5;28;01mexcept\u001b[39;00m core\u001b[38;5;241m.\u001b[39m_NotOkStatusException \u001b[38;5;28;01mas\u001b[39;00m e:\n\u001b[0;32m     56\u001b[0m   \u001b[38;5;28;01mif\u001b[39;00m name \u001b[38;5;129;01mis\u001b[39;00m \u001b[38;5;129;01mnot\u001b[39;00m \u001b[38;5;28;01mNone\u001b[39;00m:\n",
      "\u001b[1;31mInvalidArgumentError\u001b[0m: Graph execution error:\n\nDetected at node sequential_9/conv2d_27/Relu defined at (most recent call last):\n  File \"<frozen runpy>\", line 198, in _run_module_as_main\n\n  File \"<frozen runpy>\", line 88, in _run_code\n\n  File \"E:\\Conestoga\\Foundation of ML\\CNN_transfer-learning\\venv\\Lib\\site-packages\\ipykernel_launcher.py\", line 17, in <module>\n\n  File \"E:\\Conestoga\\Foundation of ML\\CNN_transfer-learning\\venv\\Lib\\site-packages\\traitlets\\config\\application.py\", line 1053, in launch_instance\n\n  File \"E:\\Conestoga\\Foundation of ML\\CNN_transfer-learning\\venv\\Lib\\site-packages\\ipykernel\\kernelapp.py\", line 737, in start\n\n  File \"E:\\Conestoga\\Foundation of ML\\CNN_transfer-learning\\venv\\Lib\\site-packages\\tornado\\platform\\asyncio.py\", line 195, in start\n\n  File \"C:\\Users\\Rj\\AppData\\Local\\Programs\\Python\\Python311\\Lib\\asyncio\\base_events.py\", line 607, in run_forever\n\n  File \"C:\\Users\\Rj\\AppData\\Local\\Programs\\Python\\Python311\\Lib\\asyncio\\base_events.py\", line 1922, in _run_once\n\n  File \"C:\\Users\\Rj\\AppData\\Local\\Programs\\Python\\Python311\\Lib\\asyncio\\events.py\", line 80, in _run\n\n  File \"E:\\Conestoga\\Foundation of ML\\CNN_transfer-learning\\venv\\Lib\\site-packages\\ipykernel\\kernelbase.py\", line 524, in dispatch_queue\n\n  File \"E:\\Conestoga\\Foundation of ML\\CNN_transfer-learning\\venv\\Lib\\site-packages\\ipykernel\\kernelbase.py\", line 513, in process_one\n\n  File \"E:\\Conestoga\\Foundation of ML\\CNN_transfer-learning\\venv\\Lib\\site-packages\\ipykernel\\kernelbase.py\", line 418, in dispatch_shell\n\n  File \"E:\\Conestoga\\Foundation of ML\\CNN_transfer-learning\\venv\\Lib\\site-packages\\ipykernel\\kernelbase.py\", line 758, in execute_request\n\n  File \"E:\\Conestoga\\Foundation of ML\\CNN_transfer-learning\\venv\\Lib\\site-packages\\ipykernel\\ipkernel.py\", line 426, in do_execute\n\n  File \"E:\\Conestoga\\Foundation of ML\\CNN_transfer-learning\\venv\\Lib\\site-packages\\ipykernel\\zmqshell.py\", line 549, in run_cell\n\n  File \"E:\\Conestoga\\Foundation of ML\\CNN_transfer-learning\\venv\\Lib\\site-packages\\IPython\\core\\interactiveshell.py\", line 3046, in run_cell\n\n  File \"E:\\Conestoga\\Foundation of ML\\CNN_transfer-learning\\venv\\Lib\\site-packages\\IPython\\core\\interactiveshell.py\", line 3101, in _run_cell\n\n  File \"E:\\Conestoga\\Foundation of ML\\CNN_transfer-learning\\venv\\Lib\\site-packages\\IPython\\core\\async_helpers.py\", line 129, in _pseudo_sync_runner\n\n  File \"E:\\Conestoga\\Foundation of ML\\CNN_transfer-learning\\venv\\Lib\\site-packages\\IPython\\core\\interactiveshell.py\", line 3306, in run_cell_async\n\n  File \"E:\\Conestoga\\Foundation of ML\\CNN_transfer-learning\\venv\\Lib\\site-packages\\IPython\\core\\interactiveshell.py\", line 3488, in run_ast_nodes\n\n  File \"E:\\Conestoga\\Foundation of ML\\CNN_transfer-learning\\venv\\Lib\\site-packages\\IPython\\core\\interactiveshell.py\", line 3548, in run_code\n\n  File \"C:\\Users\\Rj\\AppData\\Local\\Temp\\ipykernel_20020\\2219628698.py\", line 1, in <module>\n\n  File \"E:\\Conestoga\\Foundation of ML\\CNN_transfer-learning\\venv\\Lib\\site-packages\\keras\\src\\utils\\traceback_utils.py\", line 65, in error_handler\n\n  File \"E:\\Conestoga\\Foundation of ML\\CNN_transfer-learning\\venv\\Lib\\site-packages\\keras\\src\\engine\\training.py\", line 1807, in fit\n\n  File \"E:\\Conestoga\\Foundation of ML\\CNN_transfer-learning\\venv\\Lib\\site-packages\\keras\\src\\engine\\training.py\", line 1401, in train_function\n\n  File \"E:\\Conestoga\\Foundation of ML\\CNN_transfer-learning\\venv\\Lib\\site-packages\\keras\\src\\engine\\training.py\", line 1384, in step_function\n\n  File \"E:\\Conestoga\\Foundation of ML\\CNN_transfer-learning\\venv\\Lib\\site-packages\\keras\\src\\engine\\training.py\", line 1373, in run_step\n\n  File \"E:\\Conestoga\\Foundation of ML\\CNN_transfer-learning\\venv\\Lib\\site-packages\\keras\\src\\engine\\training.py\", line 1150, in train_step\n\n  File \"E:\\Conestoga\\Foundation of ML\\CNN_transfer-learning\\venv\\Lib\\site-packages\\keras\\src\\utils\\traceback_utils.py\", line 65, in error_handler\n\n  File \"E:\\Conestoga\\Foundation of ML\\CNN_transfer-learning\\venv\\Lib\\site-packages\\keras\\src\\engine\\training.py\", line 590, in __call__\n\n  File \"E:\\Conestoga\\Foundation of ML\\CNN_transfer-learning\\venv\\Lib\\site-packages\\keras\\src\\utils\\traceback_utils.py\", line 65, in error_handler\n\n  File \"E:\\Conestoga\\Foundation of ML\\CNN_transfer-learning\\venv\\Lib\\site-packages\\keras\\src\\engine\\base_layer.py\", line 1149, in __call__\n\n  File \"E:\\Conestoga\\Foundation of ML\\CNN_transfer-learning\\venv\\Lib\\site-packages\\keras\\src\\utils\\traceback_utils.py\", line 96, in error_handler\n\n  File \"E:\\Conestoga\\Foundation of ML\\CNN_transfer-learning\\venv\\Lib\\site-packages\\keras\\src\\engine\\sequential.py\", line 398, in call\n\n  File \"E:\\Conestoga\\Foundation of ML\\CNN_transfer-learning\\venv\\Lib\\site-packages\\keras\\src\\engine\\functional.py\", line 515, in call\n\n  File \"E:\\Conestoga\\Foundation of ML\\CNN_transfer-learning\\venv\\Lib\\site-packages\\keras\\src\\engine\\functional.py\", line 672, in _run_internal_graph\n\n  File \"E:\\Conestoga\\Foundation of ML\\CNN_transfer-learning\\venv\\Lib\\site-packages\\keras\\src\\utils\\traceback_utils.py\", line 65, in error_handler\n\n  File \"E:\\Conestoga\\Foundation of ML\\CNN_transfer-learning\\venv\\Lib\\site-packages\\keras\\src\\engine\\base_layer.py\", line 1149, in __call__\n\n  File \"E:\\Conestoga\\Foundation of ML\\CNN_transfer-learning\\venv\\Lib\\site-packages\\keras\\src\\utils\\traceback_utils.py\", line 96, in error_handler\n\n  File \"E:\\Conestoga\\Foundation of ML\\CNN_transfer-learning\\venv\\Lib\\site-packages\\keras\\src\\layers\\convolutional\\base_conv.py\", line 321, in call\n\n  File \"E:\\Conestoga\\Foundation of ML\\CNN_transfer-learning\\venv\\Lib\\site-packages\\keras\\src\\activations.py\", line 306, in relu\n\n  File \"E:\\Conestoga\\Foundation of ML\\CNN_transfer-learning\\venv\\Lib\\site-packages\\keras\\src\\backend.py\", line 5395, in relu\n\noutput depth must be evenly divisible by number of groups: 64 vs 3\n\t [[{{node sequential_9/conv2d_27/Relu}}]] [Op:__inference_train_function_4663]"
     ]
    }
   ],
   "source": [
    "history_transfer_learning = model_for_transfer_learning.fit(\n",
    "    datagen.flow(X_celeb_train, y_celeb_train, batch_size=32),\n",
    "    validation_data=(X_celeb_test, y_celeb_test),\n",
    "    epochs=10\n",
    ")"
   ]
  },
  {
   "cell_type": "code",
   "execution_count": 40,
   "id": "8357dada",
   "metadata": {},
   "outputs": [
    {
     "name": "stdout",
     "output_type": "stream",
     "text": [
      "WARNING:tensorflow:From E:\\Conestoga\\Foundation of ML\\CNN_transfer-learning\\venv\\Lib\\site-packages\\tensorflow_estimator\\python\\estimator\\util.py:74: The name tf.train.SessionRunHook is deprecated. Please use tf.estimator.SessionRunHook instead.\n",
      "\n",
      "WARNING:tensorflow:From E:\\Conestoga\\Foundation of ML\\CNN_transfer-learning\\venv\\Lib\\site-packages\\tensorflow_hub\\saved_model_module.py:40: The name tf.saved_model.constants.LEGACY_INIT_OP_KEY is deprecated. Please use tf.compat.v1.saved_model.constants.LEGACY_INIT_OP_KEY instead.\n",
      "\n"
     ]
    }
   ],
   "source": [
    "import tensorflow_hub as hub\n"
   ]
  },
  {
   "cell_type": "code",
   "execution_count": 41,
   "id": "181de87b",
   "metadata": {},
   "outputs": [],
   "source": [
    "mobilenet_v2_url = \"https://tfhub.dev/google/tf2-preview/mobilenet_v2/classification/4\"\n"
   ]
  },
  {
   "cell_type": "code",
   "execution_count": 45,
   "id": "724ec610",
   "metadata": {},
   "outputs": [],
   "source": [
    "mobilenet_v2 = hub.KerasLayer(mobilenet_v2_url, input_shape=(224, 224, 3))\n"
   ]
  },
  {
   "cell_type": "code",
   "execution_count": 59,
   "id": "a1dcd1f9",
   "metadata": {},
   "outputs": [],
   "source": [
    "# Resize input images to match the expected input shape of MobileNetV2\n",
    "X_celeb_train_resized = tf.image.resize(X_celeb_train, (224, 224))\n",
    "X_celeb_test_resized = tf.image.resize(X_celeb_test, (224, 224))"
   ]
  },
  {
   "cell_type": "code",
   "execution_count": 60,
   "id": "b8fb50c9",
   "metadata": {},
   "outputs": [],
   "source": [
    "mobilenet_v2.trainable = False\n"
   ]
  },
  {
   "cell_type": "code",
   "execution_count": 61,
   "id": "40ef750f",
   "metadata": {},
   "outputs": [],
   "source": [
    "label_encoder_celeb = LabelEncoder()\n",
    "y_celeb_train_encoded = label_encoder_celeb.fit_transform(y_celeb_train)\n",
    "y_celeb_test_encoded = label_encoder_celeb.transform(y_celeb_test)"
   ]
  },
  {
   "cell_type": "code",
   "execution_count": 62,
   "id": "81bcbac4",
   "metadata": {},
   "outputs": [],
   "source": [
    "model_celeb = models.Sequential([\n",
    "    mobilenet_v2,\n",
    "    layers.Flatten(),\n",
    "    layers.Dense(128, activation='relu'),\n",
    "    layers.Dense(1, activation='sigmoid')  # Binary classification output\n",
    "])"
   ]
  },
  {
   "cell_type": "code",
   "execution_count": 63,
   "id": "fedcbeda",
   "metadata": {},
   "outputs": [],
   "source": [
    "model_celeb.compile(optimizer=Adam(), loss='binary_crossentropy', metrics=['accuracy'])\n"
   ]
  },
  {
   "cell_type": "code",
   "execution_count": 64,
   "id": "924d4e88",
   "metadata": {},
   "outputs": [
    {
     "name": "stdout",
     "output_type": "stream",
     "text": [
      "Epoch 1/10\n",
      "4/4 [==============================] - 3s 425ms/step - loss: 1.6122 - accuracy: 0.4083 - val_loss: 1.2332 - val_accuracy: 0.4667\n",
      "Epoch 2/10\n",
      "4/4 [==============================] - 1s 236ms/step - loss: 1.1617 - accuracy: 0.5250 - val_loss: 0.7536 - val_accuracy: 0.4667\n",
      "Epoch 3/10\n",
      "4/4 [==============================] - 1s 232ms/step - loss: 0.8354 - accuracy: 0.5083 - val_loss: 0.8690 - val_accuracy: 0.5333\n",
      "Epoch 4/10\n",
      "4/4 [==============================] - 1s 230ms/step - loss: 0.7591 - accuracy: 0.5250 - val_loss: 0.9394 - val_accuracy: 0.4667\n",
      "Epoch 5/10\n",
      "4/4 [==============================] - 1s 233ms/step - loss: 0.8577 - accuracy: 0.5250 - val_loss: 0.6975 - val_accuracy: 0.4667\n",
      "Epoch 6/10\n",
      "4/4 [==============================] - 1s 232ms/step - loss: 0.7721 - accuracy: 0.4917 - val_loss: 0.7234 - val_accuracy: 0.5333\n",
      "Epoch 7/10\n",
      "4/4 [==============================] - 1s 224ms/step - loss: 0.6928 - accuracy: 0.5250 - val_loss: 0.8199 - val_accuracy: 0.4667\n",
      "Epoch 8/10\n",
      "4/4 [==============================] - 1s 225ms/step - loss: 0.8009 - accuracy: 0.5250 - val_loss: 0.6879 - val_accuracy: 0.6000\n",
      "Epoch 9/10\n",
      "4/4 [==============================] - 1s 226ms/step - loss: 0.7396 - accuracy: 0.5083 - val_loss: 0.6928 - val_accuracy: 0.5333\n",
      "Epoch 10/10\n",
      "4/4 [==============================] - 1s 224ms/step - loss: 0.7378 - accuracy: 0.4750 - val_loss: 0.7911 - val_accuracy: 0.4667\n"
     ]
    }
   ],
   "source": [
    "history_transfer_learning = model_celeb.fit(\n",
    "    X_celeb_train_resized, y_celeb_train_encoded,\n",
    "    validation_data=(X_celeb_test_resized, y_celeb_test_encoded),\n",
    "    epochs=10, batch_size=32\n",
    ")"
   ]
  },
  {
   "cell_type": "code",
   "execution_count": 65,
   "id": "35b586da",
   "metadata": {},
   "outputs": [
    {
     "name": "stdout",
     "output_type": "stream",
     "text": [
      "1/1 [==============================] - 0s 185ms/step - loss: 0.7911 - accuracy: 0.4667\n",
      "Test Accuracy: 46.67%\n",
      "Test Loss: 0.7911\n"
     ]
    }
   ],
   "source": [
    "# Evaluate the model on the test set\n",
    "test_loss, test_accuracy = model_celeb.evaluate(X_celeb_test_resized, y_celeb_test_encoded)\n",
    "\n",
    "# Print the test accuracy\n",
    "print(f'Test Accuracy: {test_accuracy * 100:.2f}%')\n",
    "\n",
    "# Print the test loss\n",
    "print(f'Test Loss: {test_loss:.4f}')\n"
   ]
  },
  {
   "cell_type": "code",
   "execution_count": 66,
   "id": "71e48675",
   "metadata": {},
   "outputs": [
    {
     "name": "stdout",
     "output_type": "stream",
     "text": [
      "1/1 [==============================] - 1s 721ms/step\n"
     ]
    },
    {
     "data": {
      "image/png": "[encoded data removed]",
      "text/plain": [
       "<Figure size 800x800 with 1 Axes>"
      ]
     },
     "metadata": {},
     "output_type": "display_data"
    }
   ],
   "source": [
    "from sklearn.metrics import roc_curve, auc\n",
    "import matplotlib.pyplot as plt\n",
    "\n",
    "# Get predicted probabilities for the positive class (1)\n",
    "y_celeb_test_probs = model_celeb.predict(X_celeb_test_resized)\n",
    "\n",
    "# Compute ROC curve and AUC\n",
    "fpr, tpr, _ = roc_curve(y_celeb_test_encoded, y_celeb_test_probs)\n",
    "roc_auc = auc(fpr, tpr)\n",
    "\n",
    "# Plot ROC curve\n",
    "plt.figure(figsize=(8, 8))\n",
    "plt.plot(fpr, tpr, color='darkorange', lw=2, label=f'AUC = {roc_auc:.2f}')\n",
    "plt.plot([0, 1], [0, 1], color='navy', lw=2, linestyle='--')\n",
    "plt.xlabel('False Positive Rate')\n",
    "plt.ylabel('True Positive Rate')\n",
    "plt.title('Receiver Operating Characteristic (ROC) Curve')\n",
    "plt.legend(loc='lower right')\n",
    "plt.show()\n"
   ]
  },
  {
   "cell_type": "code",
   "execution_count": 68,
   "id": "f2550131",
   "metadata": {},
   "outputs": [
    {
     "name": "stdout",
     "output_type": "stream",
     "text": [
      "1/1 [==============================] - 0s 182ms/step\n"
     ]
    }
   ],
   "source": [
    "# Get predicted probabilities for each class\n",
    "y_celeb_test_probs = model_celeb.predict(X_celeb_test_resized)\n",
    "\n",
    "# Convert probabilities to class labels\n",
    "y_celeb_test_pred = np.argmax(y_celeb_test_probs, axis=1)\n"
   ]
  },
  {
   "cell_type": "code",
   "execution_count": 69,
   "id": "94957db6",
   "metadata": {},
   "outputs": [
    {
     "name": "stdout",
     "output_type": "stream",
     "text": [
      "              precision    recall  f1-score   support\n",
      "\n",
      "           0       0.53      1.00      0.70        16\n",
      "           1       0.00      0.00      0.00        14\n",
      "\n",
      "    accuracy                           0.53        30\n",
      "   macro avg       0.27      0.50      0.35        30\n",
      "weighted avg       0.28      0.53      0.37        30\n",
      "\n"
     ]
    },
    {
     "name": "stderr",
     "output_type": "stream",
     "text": [
      "E:\\Conestoga\\Foundation of ML\\CNN_transfer-learning\\venv\\Lib\\site-packages\\sklearn\\metrics\\_classification.py:1471: UndefinedMetricWarning: Precision and F-score are ill-defined and being set to 0.0 in labels with no predicted samples. Use `zero_division` parameter to control this behavior.\n",
      "  _warn_prf(average, modifier, msg_start, len(result))\n",
      "E:\\Conestoga\\Foundation of ML\\CNN_transfer-learning\\venv\\Lib\\site-packages\\sklearn\\metrics\\_classification.py:1471: UndefinedMetricWarning: Precision and F-score are ill-defined and being set to 0.0 in labels with no predicted samples. Use `zero_division` parameter to control this behavior.\n",
      "  _warn_prf(average, modifier, msg_start, len(result))\n",
      "E:\\Conestoga\\Foundation of ML\\CNN_transfer-learning\\venv\\Lib\\site-packages\\sklearn\\metrics\\_classification.py:1471: UndefinedMetricWarning: Precision and F-score are ill-defined and being set to 0.0 in labels with no predicted samples. Use `zero_division` parameter to control this behavior.\n",
      "  _warn_prf(average, modifier, msg_start, len(result))\n"
     ]
    }
   ],
   "source": [
    "from sklearn.metrics import classification_report\n",
    "\n",
    "# Generate a classification report\n",
    "report = classification_report(y_celeb_test_encoded, y_celeb_test_pred)\n",
    "\n",
    "# Print the classification report\n",
    "print(report)\n"
   ]
  },
  {
   "cell_type": "code",
   "execution_count": 71,
   "id": "b6a9f8ee",
   "metadata": {},
   "outputs": [
    {
     "data": {
      "image/png": "[encoded data removed]",
      "text/plain": [
       "<Figure size 800x600 with 1 Axes>"
      ]
     },
     "metadata": {},
     "output_type": "display_data"
    }
   ],
   "source": [
    "from sklearn.metrics import confusion_matrix\n",
    "import seaborn as sns\n",
    "import matplotlib.pyplot as plt\n",
    "\n",
    "# Generate confusion matrix\n",
    "conf_matrix = confusion_matrix(y_celeb_test_encoded, y_celeb_test_pred)\n",
    "\n",
    "# Plot the confusion matrix\n",
    "plt.figure(figsize=(8, 6))\n",
    "sns.heatmap(conf_matrix, annot=True, fmt=\"d\", cmap=\"Blues\", cbar=False,\n",
    "            xticklabels=label_encoder_celeb.classes_,\n",
    "            yticklabels=label_encoder_celeb.classes_)\n",
    "plt.title(\"Confusion Matrix\")\n",
    "plt.xlabel(\"Predicted Labels\")\n",
    "plt.ylabel(\"True Labels\")\n",
    "plt.show()\n"
   ]
  },
  {
   "cell_type": "code",
   "execution_count": null,
   "id": "0a01107b",
   "metadata": {},
   "outputs": [],
   "source": []
  }
 ],
 "metadata": {
  "kernelspec": {
   "display_name": "Python 3 (ipykernel)",
   "language": "python",
   "name": "python3"
  },
  "language_info": {
   "codemirror_mode": {
    "name": "ipython",
    "version": 3
   },
   "file_extension": ".py",
   "mimetype": "text/x-python",
   "name": "python",
   "nbconvert_exporter": "python",
   "pygments_lexer": "ipython3",
   "version": "3.11.6"
  }
 },
 "nbformat": 4,
 "nbformat_minor": 5
}
